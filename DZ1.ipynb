#!/usr/bin/env python
# coding: utf-8

# In[3]:


#1.Создать вектор (одномерный массив) размера 100, заполненный нулями
import numpy
n = numpy.zeros(100)
print(n)


# In[4]:


#2.Создать вектор размера 100, заполненный единицами
m = numpy.ones(100)
print(m)


# In[5]:


#3.Создать вектор размера 100, заполненный числом 3
q = numpy.full(100, 3)
print(q)


# In[12]:


#4. Поменять 2 строки в матрице
c
S[[0,1]] = S[[1,0]]
print('После изменения:')
print(S)


# In[24]:


#5. Создать вектор со значениями от 10 до 100
z = numpy.arange(10,101)
print(z)


# In[25]:


#6. Создать матрицу (двумерный массив) 4x4 со значениями от 0 до 16
S= numpy.arange(16).reshape(4,4)
print(S)


# In[26]:


#7. Создать 3x3 единичную матрицу
p = numpy.eye(3)
print(p)


# In[27]:


#8. Создать массив 3x3x3 со случайными значениями
n = numpy.random.random((3,3,3))
print(n)


# In[28]:


#9. Создать массив 10x10 со случайными значениями, найти минимум и максимум
M = numpy.random.random((10,10))
Mmin, Mmax = M.min(), M.max()
print(Mmin, Mmax)


# In[29]:


#10. Создать случайный вектор размера 30 и найти среднее значение всех элементов
q = numpy.random.random(30)
m = q.mean()
print(m)


# In[30]:


#11. Дан массив размерности (6,7,8). Каков индекс (x,y,z) сотого элемента?
print(numpy.unravel_index(100, (6,7,8)))


# In[32]:


#12. Перемножить матрицы 5x3 и 3x2
n = numpy.dot(numpy.ones((5,3)), numpy.ones((3,2)))
print(n)


# In[36]:


#13. Дан массив, поменять знак у элементов, значения которых между 3 и 8
N = numpy.arange(15)
N[(3 < N) & (N <= 8)] *= -1
print(N)


# In[38]:


#14. Создать 5x5 матрицу со значениями в строках от 0 до 4
M = numpy.zeros((5,5))
M += numpy.arange(5)
print(M)


# In[40]:


#15. Отнять среднее из каждой строки в матрице
X = numpy.random.rand(5, 10)
Y = X - X.mean(axis=1, keepdims=True)
print(X)
print(Y)


# In[ ]:




